{
 "cells": [
  {
   "cell_type": "code",
   "execution_count": 1,
   "metadata": {},
   "outputs": [],
   "source": [
    "# 초성 리스트. 00 ~ 18\n",
    "CHOSUNG_LIST = ['ㄱ', 'ㄲ', 'ㄴ', 'ㄷ', 'ㄸ', 'ㄹ', 'ㅁ', 'ㅂ', 'ㅃ', 'ㅅ', 'ㅆ', 'ㅇ', 'ㅈ', 'ㅉ', 'ㅊ', 'ㅋ', 'ㅌ', 'ㅍ', 'ㅎ']\n",
    "# 중성 리스트. 00 ~ 20\n",
    "JUNGSUNG_LIST = ['ㅏ', 'ㅐ', 'ㅑ', 'ㅒ', 'ㅓ', 'ㅔ', 'ㅕ', 'ㅖ', 'ㅗ', 'ㅘ', 'ㅙ', 'ㅚ', 'ㅛ', 'ㅜ', 'ㅝ', 'ㅞ', 'ㅟ', 'ㅠ', 'ㅡ', 'ㅢ', 'ㅣ']\n",
    "# 종성 리스트. 00 ~ 27 + 1(1개 없음)\n",
    "JONGSUNG_LIST = [' ', 'ㄱ', 'ㄲ', 'ㄳ', 'ㄴ', 'ㄵ', 'ㄶ', 'ㄷ', 'ㄹ', 'ㄺ', 'ㄻ', 'ㄼ', 'ㄽ', 'ㄾ', 'ㄿ', 'ㅀ', 'ㅁ', 'ㅂ', 'ㅄ', 'ㅅ', 'ㅆ', 'ㅇ', 'ㅈ', 'ㅊ', 'ㅋ', 'ㅌ', 'ㅍ', 'ㅎ']"
   ]
  },
  {
   "cell_type": "code",
   "execution_count": 9,
   "metadata": {},
   "outputs": [],
   "source": [
    "def korean_to_be_englished(korean_word):\n",
    "    r_lst = []\n",
    "    w = korean_word\n",
    "    ## 영어인 경우 구분해서 작성함. \n",
    "    if '가'<=w<='힣':\n",
    "        ## 588개 마다 초성이 바뀜. \n",
    "        ch1 = (ord(w) - ord('가'))//588\n",
    "        ## 중성은 총 28가지 종류\n",
    "        ch2 = ((ord(w) - ord('가')) - (588*ch1)) // 28\n",
    "        ch3 = (ord(w) - ord('가')) - (588*ch1) - 28*ch2\n",
    "        if JONGSUNG_LIST[ch3] == \" \":\n",
    "            return [CHOSUNG_LIST[ch1], JUNGSUNG_LIST[ch2]]\n",
    "        else:\n",
    "            return [CHOSUNG_LIST[ch1], JUNGSUNG_LIST[ch2], JONGSUNG_LIST[ch3]]"
   ]
  },
  {
   "cell_type": "code",
   "execution_count": 19,
   "metadata": {},
   "outputs": [],
   "source": [
    "import json\n",
    "with open('/opt/level3_productserving-level3-cv-11/data/words/ko/ko.json') as file:\n",
    "    data = json.load(file)\n",
    "\n",
    "hangul_dict = {}\n",
    "for hangul in data['words']['character']:\n",
    "    hangul_dict[hangul] = korean_to_be_englished(hangul)\n",
    "    \n",
    "with open('/opt/mxfont/data/kor_decomposition.json', 'w', encoding='utf-8') as make_file:\n",
    "    json.dump(hangul_dict, make_file, indent=\"\\t\")\n"
   ]
  },
  {
   "cell_type": "code",
   "execution_count": 29,
   "metadata": {},
   "outputs": [],
   "source": [
    "CHOSUNG = set(['ㄱ', 'ㄲ', 'ㄴ', 'ㄷ', 'ㄸ', 'ㄹ', 'ㅁ', 'ㅂ', 'ㅃ', 'ㅅ', 'ㅆ', 'ㅇ', 'ㅈ', 'ㅉ', 'ㅊ', 'ㅋ', 'ㅌ', 'ㅍ', 'ㅎ'])\n",
    "JUNGSUNG = set(['ㅏ', 'ㅐ', 'ㅑ', 'ㅒ', 'ㅓ', 'ㅔ', 'ㅕ', 'ㅖ', 'ㅗ', 'ㅘ', 'ㅙ', 'ㅚ', 'ㅛ', 'ㅜ', 'ㅝ', 'ㅞ', 'ㅟ', 'ㅠ', 'ㅡ', 'ㅢ', 'ㅣ'])\n",
    "JONGSUNG = set(['ㄱ', 'ㄲ', 'ㄳ', 'ㄴ', 'ㄵ', 'ㄶ', 'ㄷ', 'ㄹ', 'ㄺ', 'ㄻ', 'ㄼ', 'ㄽ', 'ㄾ', 'ㄿ', 'ㅀ', 'ㅁ', 'ㅂ', 'ㅄ', 'ㅅ', 'ㅆ', 'ㅇ', 'ㅈ', 'ㅊ', 'ㅋ', 'ㅌ', 'ㅍ', 'ㅎ'])\n",
    "\n",
    "l = (CHOSUNG | JUNGSUNG | JONGSUNG)\n",
    "\n",
    "with open('/opt/mxfont/data/kor_primals.json', 'w', encoding='utf-8') as make_file:\n",
    "    json.dump(list(l), make_file)"
   ]
  },
  {
   "cell_type": "code",
   "execution_count": 85,
   "metadata": {},
   "outputs": [],
   "source": [
    "from PIL import Image\n",
    "im = Image.open('/opt/엯.png').convert(\"L\")\n",
    "im.save(\"엯_g.png\")"
   ]
  },
  {
   "cell_type": "code",
   "execution_count": 1,
   "metadata": {},
   "outputs": [],
   "source": [
    "# This code example demonstrates how to convert PNG to SVG\n",
    "import aspose.words as aw\n",
    "\n",
    "#  Create document object\n",
    "doc = aw.Document()\n",
    "\n",
    "# Create a document builder object\n",
    "builder = aw.DocumentBuilder(doc)\n",
    "\n",
    "# Load and insert PNG image\n",
    "shape = builder.insert_image(\"/opt/mxfont/results/W.png\")\n",
    "\n",
    "# Specify image save format as SVG\n",
    "saveOptions = aw.saving.ImageSaveOptions(aw.SaveFormat.SVG)\n",
    "\n",
    "# Save image as SVG\n",
    "shape.get_shape_renderer().save(\"/opt/mxfont/results/W.svg\", saveOptions)"
   ]
  },
  {
   "cell_type": "code",
   "execution_count": 5,
   "metadata": {},
   "outputs": [
    {
     "name": "stderr",
     "output_type": "stream",
     "text": [
      "sh: 1: cmd: not found\n"
     ]
    },
    {
     "data": {
      "text/plain": [
       "32512"
      ]
     },
     "execution_count": 5,
     "metadata": {},
     "output_type": "execute_result"
    }
   ],
   "source": [
    "import os\n",
    "os.system('cmd /k \"fontforge -lang=py -script svgs2ttf examples/example.json\"')"
   ]
  },
  {
   "cell_type": "code",
   "execution_count": 6,
   "metadata": {},
   "outputs": [
    {
     "ename": "ModuleNotFoundError",
     "evalue": "No module named 'fontforge'",
     "output_type": "error",
     "traceback": [
      "\u001b[0;31m---------------------------------------------------------------------------\u001b[0m",
      "\u001b[0;31mModuleNotFoundError\u001b[0m                       Traceback (most recent call last)",
      "Cell \u001b[0;32mIn[6], line 3\u001b[0m\n\u001b[1;32m      1\u001b[0m \u001b[39mimport\u001b[39;00m \u001b[39mos\u001b[39;00m\u001b[39m.\u001b[39;00m\u001b[39mpath\u001b[39;00m\n\u001b[1;32m      2\u001b[0m \u001b[39mimport\u001b[39;00m \u001b[39mjson\u001b[39;00m\n\u001b[0;32m----> 3\u001b[0m \u001b[39mimport\u001b[39;00m \u001b[39mfontforge\u001b[39;00m\n",
      "\u001b[0;31mModuleNotFoundError\u001b[0m: No module named 'fontforge'"
     ]
    }
   ],
   "source": [
    "import os.path\n",
    "import json\n",
    "import fontforge"
   ]
  },
  {
   "cell_type": "code",
   "execution_count": 67,
   "metadata": {},
   "outputs": [
    {
     "data": {
      "text/plain": [
       "array([[1., 1., 1., ..., 1., 1., 1.],\n",
       "       [1., 1., 1., ..., 1., 1., 1.],\n",
       "       [1., 1., 1., ..., 1., 1., 1.],\n",
       "       ...,\n",
       "       [1., 1., 1., ..., 1., 0., 0.],\n",
       "       [1., 1., 1., ..., 0., 0., 0.],\n",
       "       [1., 1., 1., ..., 1., 1., 1.]])"
      ]
     },
     "execution_count": 67,
     "metadata": {},
     "output_type": "execute_result"
    }
   ],
   "source": [
    "from PIL import ImageFilter\n",
    "from PIL import Image\n",
    "import numpy as np\n",
    "\n",
    "im = Image.open('/opt/W.png')\n",
    "thresh = 200\n",
    "fn = lambda x : 255 if x > thresh else 0\n",
    "r = im.convert('L').point(fn, mode='1')\n",
    "pix = np.array(r.getdata()).reshape(r.size[0], r.size[1])\n",
    "pix = pix/255\n",
    "pix"
   ]
  },
  {
   "cell_type": "code",
   "execution_count": 70,
   "metadata": {},
   "outputs": [
    {
     "name": "stdout",
     "output_type": "stream",
     "text": [
      "(0.0, 64.0)\n",
      "CornerSegment(c=(0.0, 0.0), end_point=(64.0, 0.0))\n",
      "CornerSegment(c=(128.0, 0.0), end_point=(128.0, 11.0))\n",
      "BezierSegment(c1=(128.0, 17.666666666666664), c2=(127.60606060606061, 22.0), end_point=(127.0, 22.0))\n",
      "BezierSegment(c1=(126.45, 22.0), c2=(126.0, 22.675), end_point=(126.0, 23.5))\n",
      "BezierSegment(c1=(126.0, 24.325), c2=(126.45, 25.0), end_point=(127.0, 25.0))\n",
      "BezierSegment(c1=(127.55, 25.0), c2=(128.0, 25.675), end_point=(128.0, 26.5))\n",
      "BezierSegment(c1=(128.0, 27.325), c2=(127.55, 28.0), end_point=(127.0, 28.0))\n",
      "BezierSegment(c1=(126.45, 28.0), c2=(126.0, 28.92655764746872), end_point=(126.0, 30.059016994374936))\n",
      "BezierSegment(c1=(126.00000000000001, 31.191476341281152), c2=(126.44376782067498, 31.843770392459277), end_point=(126.98615071261105, 31.508559330326328))\n",
      "BezierSegment(c1=(127.62896473433709, 31.111278416454617), c2=(127.9747642190748, 47.24375463895045), end_point=(127.97937519851041, 77.84515354048126))\n",
      "BezierSegment(c1=(127.98596076896467, 121.55119718685863), c2=(127.86613876397104, 124.84034269866949), end_point=(126.24322448589938, 125.5029466521498))\n",
      "BezierSegment(c1=(124.64739565982735, 126.15449214874226), c2=(124.66910691769145, 126.28420590867299), end_point=(126.5, 127.03705018500955))\n",
      "BezierSegment(c1=(127.6, 127.48935879438288), c2=(99.5875, 127.8910578429539), end_point=(64.25, 127.92971473738962))\n",
      "CornerSegment(c=(0.0, 128.0), end_point=(0.0, 64.0))\n",
      "(50.828745357059795, 90.72716558636264)\n",
      "BezierSegment(c1=(52.56663568476618, 89.28484471903076), c2=(58.03493925322565, 78.22426394634984), end_point=(60.96307285355991, 70.22875205673134))\n",
      "BezierSegment(c1=(62.226241321035424, 66.77956568793357), c2=(63.71956741894369, 63.67331686664565), end_point=(64.28157529335604, 63.32597689831373))\n",
      "BezierSegment(c1=(65.78691274126754, 62.395627190966415), c2=(67.65761046745608, 65.45889110093704), end_point=(70.12595508626973, 72.89613751013553))\n",
      "BezierSegment(c1=(72.47875069578168, 79.98522894617291), c2=(76.28632046667946, 86.51215785850019), end_point=(78.58321688263237, 87.39355971358603))\n",
      "BezierSegment(c1=(79.36244759718457, 87.69257859514114), c2=(80.0, 88.61223040732258), end_point=(80.0, 89.4372304073226))\n",
      "BezierSegment(c1=(80.0, 91.94037523804312), c2=(82.74847755839559, 90.08362743691255), end_point=(83.33718391946803, 87.1827790709771))\n",
      "BezierSegment(c1=(84.81099606210294, 79.92057531651089), c2=(89.47638022388401, 64.58079514677102), end_point=(92.5545710952375, 56.87601587364483))\n",
      "BezierSegment(c1=(94.44955699285688, 52.13282460414949), c2=(96.0, 47.69284049036705), end_point=(96.0, 47.009384509683855))\n",
      "BezierSegment(c1=(96.0, 46.2590666891277), c2=(96.79238806018387, 45.97395140464077), end_point=(98.0, 46.28974902092909))\n",
      "BezierSegment(c1=(99.1, 46.57740548279716), c2=(100.0, 46.44891091076505), end_point=(100.0, 46.004205527524405))\n",
      "BezierSegment(c1=(100.0, 45.55950014428377), c2=(101.42297096447314, 44.69959993555658), end_point=(103.1621576988292, 44.09331617479732))\n",
      "BezierSegment(c1=(108.50512777500485, 42.23074677530882), c2=(105.63811331129679, 41.76283140967556), end_point=(93.52153544703836, 42.51990406161093))\n",
      "BezierSegment(c1=(85.62973863489039, 43.01300232813816), c2=(82.03366369888505, 43.605949455695345), end_point=(82.28568688326241, 44.37255292185942))\n",
      "BezierSegment(c1=(82.48954526437495, 44.99264881483674), c2=(84.81188577943801, 45.63932972727098), end_point=(87.44644358340256, 45.809621616157735))\n",
      "CornerSegment(c=(92.23654868151992, 46.11924323231547), end_point=(91.62887169182434, 49.91944635821116))\n",
      "BezierSegment(c1=(90.87727199818457, 54.61969262987431), c2=(83.71487409966079, 76.417653877265), end_point=(81.58067999839885, 80.5))\n",
      "BezierSegment(c1=(80.71808281501181, 82.15), c2=(80.00954914944101, 84.0625), end_point=(80.00616074157485, 84.75))\n",
      "BezierSegment(c1=(79.99444529562037, 87.12703647607908), c2=(78.48509972072236, 85.98771698901325), end_point=(77.35660441951961, 82.75))\n",
      "BezierSegment(c1=(76.73357734280322, 80.9625), c2=(74.0871636772306, 74.55), end_point=(71.47568516269159, 68.5))\n",
      "BezierSegment(c1=(67.31150956855919, 58.85287397378869), c2=(66.6670998382263, 56.410066440259776), end_point=(66.23609361832132, 48.63792608223005))\n",
      "BezierSegment(c1=(65.72195611233793, 39.36671681589708), c2=(66.47075462499649, 37.415308830954245), end_point=(70.10881721321292, 38.54540637393564))\n",
      "BezierSegment(c1=(72.25816485004357, 39.21306187037007), c2=(74.7100375334488, 36.31003753344849), end_point=(73.23911946687181, 34.83911946687181))\n",
      "BezierSegment(c1=(72.47096314018735, 34.070963140187516), c2=(69.54592235914383, 34.154636290138164), end_point=(63.01806010671656, 35.13150111092929))\n",
      "BezierSegment(c1=(53.7214101875327, 36.52270238112838), c2=(51.203954420012266, 38.44011731166987), end_point=(58.5, 38.57267216047462))\n",
      "CornerSegment(c=(62.5, 38.645344320949235), end_point=(62.80321970200891, 45.034653390914045))\n",
      "BezierSegment(c1=(63.385950926989615, 57.31370345413037), c2=(57.05973017862832, 78.06539621967764), end_point=(50.34068716955284, 85.915086825229))\n",
      "BezierSegment(c1=(48.4109074961424, 88.16960035530956), c2=(46.510811973919566, 89.81569916174271), end_point=(46.11825267572431, 89.57308417285824))\n",
      "BezierSegment(c1=(44.85600862323176, 88.79297444632043), c2=(42.718317010273864, 90.73521035419547), end_point=(43.48097917680095, 91.96922366156994))\n",
      "BezierSegment(c1=(44.296511719100174, 93.2887830339417), c2=(48.62350430274886, 92.55735310707192), end_point=(50.828745357059795, 90.72716558636264))\n",
      "(48.079189197399714, 86.40458285438635)\n",
      "BezierSegment(c1=(49.18845667654745, 85.06799730916279), c2=(49.13008046915146, 84.37850095726371), end_point=(47.71936295502785, 82.15458285438635))\n",
      "BezierSegment(c1=(43.34128175600403, 75.25278009309814), c2=(42.744102188120074, 72.63817127558292), end_point=(42.28949981629583, 58.38121751515499))\n",
      "CornerSegment(c=(41.839303223620036, 44.26243503030998), end_point=(45.41965161181001, 42.04965803484268))\n",
      "BezierSegment(c1=(48.94447392708758, 39.87119803969705), c2=(50.19641764119414, 37.10142041024128), end_point=(47.75, 36.89403740931547))\n",
      "BezierSegment(c1=(44.58534247800586, 36.625769161587634), c2=(40.55834869436575, 37.286586990736495), end_point=(37.454338882160116, 38.58352510040234))\n",
      "BezierSegment(c1=(35.589782990958156, 39.36258629518106), c2=(32.66678800444477, 40.000000000000014), end_point=(30.958794467685934, 40.000000000000014))\n",
      "BezierSegment(c1=(28.53283660916859, 40.00000000000001), c2=(27.930924965513558, 40.38290791881221), end_point=(28.20788406691954, 41.75))\n",
      "BezierSegment(c1=(28.561322310132972, 43.494599188230794), c2=(29.576657485908882, 43.65300054145859), end_point=(35.5, 42.887635195994505))\n",
      "CornerSegment(c=(38.5, 42.5), end_point=(39.338636439391784, 58.0))\n",
      "BezierSegment(c1=(40.026768615703205, 70.71832254339262), c2=(40.61002356628217, 74.59085913364048), end_point=(42.588636439391784, 79.57846050995764))\n",
      "BezierSegment(c1=(43.914886397726306, 82.92161379043434), c2=(45.0, 86.18411379043434), end_point=(45.0, 86.82846050995764))\n",
      "BezierSegment(c1=(45.0, 88.48933964911933), c2=(46.52299148433433, 88.27968638702689), end_point=(48.079189197399714, 86.40458285438635))\n",
      "(40.0, 41.62244471544217)\n",
      "BezierSegment(c1=(40.0, 41.41478930893537), c2=(40.675, 40.68468918698639), end_point=(41.5, 40.0))\n",
      "BezierSegment(c1=(42.72850775060313, 38.98042912367644), c2=(43.0, 39.04876467932729), end_point=(43.0, 40.37755528455783))\n",
      "BezierSegment(c1=(43.0, 41.26989987805102), c2=(42.325, 42.0), end_point=(41.5, 42.0))\n",
      "BezierSegment(c1=(40.675, 42.0), c2=(40.0, 41.83010012194898), end_point=(40.0, 41.62244471544217))\n"
     ]
    }
   ],
   "source": [
    "from potrace import Bitmap\n",
    "import numpy as np\n",
    "bitmap = Bitmap(pix)\n",
    "path = bitmap.trace()\n",
    "path\n",
    "\n",
    "# Iterate over path curves\n",
    "for curve in path:\n",
    "    print (curve.start_point)\n",
    "    for segment in curve:\n",
    "        print(segment)\n",
    "        end_point_x, end_point_y = segment.end_point\n",
    "        if segment.is_corner:\n",
    "            c_x, c_y = segment.c\n",
    "        else:\n",
    "            c1_x, c1_y = segment.c1\n",
    "            c2_x, c2_y = segment.c2"
   ]
  },
  {
   "cell_type": "code",
   "execution_count": 79,
   "metadata": {},
   "outputs": [
    {
     "data": {
      "text/plain": [
       "0"
      ]
     },
     "execution_count": 79,
     "metadata": {},
     "output_type": "execute_result"
    }
   ],
   "source": [
    "import os\n",
    "os.system('convert /opt/W.png -flatten pgm:| mkbitmap -f 64 -t 0.4 - -o -| potrace --svg -o /opt/W.svg')"
   ]
  },
  {
   "cell_type": "code",
   "execution_count": 81,
   "metadata": {},
   "outputs": [
    {
     "name": "stderr",
     "output_type": "stream",
     "text": [
      "Copyright (c) 2000-2023. See AUTHORS for Contributors.\n",
      " License GPLv3+: GNU GPL version 3 or later <http://gnu.org/licenses/gpl.html>\n",
      " with many parts BSD <http://fontforge.org/license.html>. Please read LICENSE.\n",
      " Version: 20230101\n",
      " Based on sources from 2023-01-25 04:25 UTC-ML-D-GDK3.\n",
      " Based on source from git with hash: 4f4907d9541857b135bd0b361099e778325b4e28\n",
      "Could not find platform independent libraries <prefix>\n",
      "Could not find platform dependent libraries <exec_prefix>\n",
      "Consider setting $PYTHONHOME to <prefix>[:<exec_prefix>]\n",
      "Python path configuration:\n",
      "  PYTHONHOME = (not set)\n",
      "  PYTHONPATH = (not set)\n",
      "  program name = 'fontforge'\n",
      "  isolated = 0\n",
      "  environment = 1\n",
      "  user site = 1\n",
      "  import site = 1\n",
      "  sys._base_executable = '/usr/local/bin/fontforge'\n",
      "  sys.base_prefix = '/tmp/build/80754af9/python_1599203911753/_h_env_placehold_placehold_placehold_placehold_placehold_placehold_placehold_placehold_placehold_placehold_placehold_placehold_placehold_placehold_placehold_placehold_placehold_placehold_placehold_placehold_placeho'\n",
      "  sys.base_exec_prefix = '/tmp/build/80754af9/python_1599203911753/_h_env_placehold_placehold_placehold_placehold_placehold_placehold_placehold_placehold_placehold_placehold_placehold_placehold_placehold_placehold_placehold_placehold_placehold_placehold_placehold_placehold_placeho'\n",
      "  sys.executable = '/usr/local/bin/fontforge'\n",
      "  sys.prefix = '/tmp/build/80754af9/python_1599203911753/_h_env_placehold_placehold_placehold_placehold_placehold_placehold_placehold_placehold_placehold_placehold_placehold_placehold_placehold_placehold_placehold_placehold_placehold_placehold_placehold_placehold_placeho'\n",
      "  sys.exec_prefix = '/tmp/build/80754af9/python_1599203911753/_h_env_placehold_placehold_placehold_placehold_placehold_placehold_placehold_placehold_placehold_placehold_placehold_placehold_placehold_placehold_placehold_placehold_placehold_placehold_placehold_placehold_placeho'\n",
      "  sys.path = [\n",
      "    '/tmp/build/80754af9/python_1599203911753/_h_env_placehold_placehold_placehold_placehold_placehold_placehold_placehold_placehold_placehold_placehold_placehold_placehold_placehold_placehold_placehold_placehold_placehold_placehold_placehold_placehold_placeho/lib/python38.zip',\n",
      "    '/tmp/build/80754af9/python_1599203911753/_h_env_placehold_placehold_placehold_placehold_placehold_placehold_placehold_placehold_placehold_placehold_placehold_placehold_placehold_placehold_placehold_placehold_placehold_placehold_placehold_placehold_placeho/lib/python3.8',\n",
      "    '/tmp/build/80754af9/python_1599203911753/_h_env_placehold_placehold_placehold_placehold_placehold_placehold_placehold_placehold_placehold_placehold_placehold_placehold_placehold_placehold_placehold_placehold_placehold_placehold_placehold_placehold_placeho/lib/lib-dynload',\n",
      "  ]\n",
      "Fatal Python error: init_fs_encoding: failed to get the Python codec of the filesystem encoding\n",
      "Python runtime state: core initialized\n",
      "ModuleNotFoundError: No module named 'encodings'\n",
      "\n",
      "Current thread 0x00007ff0e5806a00 (most recent call first):\n",
      "<no Python frame>\n"
     ]
    },
    {
     "data": {
      "text/plain": [
       "256"
      ]
     },
     "execution_count": 81,
     "metadata": {},
     "output_type": "execute_result"
    }
   ],
   "source": [
    "import os\n",
    "os.system('fontforge -lang=py -script svgs2ttf examples/example.json')"
   ]
  },
  {
   "cell_type": "code",
   "execution_count": 6,
   "metadata": {},
   "outputs": [
    {
     "data": {
      "text/plain": [
       "'/opt/final-project-level2-cv-11'"
      ]
     },
     "execution_count": 6,
     "metadata": {},
     "output_type": "execute_result"
    }
   ],
   "source": [
    "import os\n",
    "os.environ['HOME'] = \"/opt/final-project-level2-cv-11\"\n",
    "os.getenv('HOME')"
   ]
  },
  {
   "cell_type": "code",
   "execution_count": 9,
   "metadata": {},
   "outputs": [
    {
     "data": {
      "text/plain": [
       "('/opt/final-project-level2-cv-11/src/model/font_generator/mxfont',\n",
       " 'fdfs.ipynb')"
      ]
     },
     "execution_count": 9,
     "metadata": {},
     "output_type": "execute_result"
    }
   ],
   "source": [
    "os.path.split('/opt/final-project-level2-cv-11/src/model/font_generator/mxfont/fdfs.ipynb')"
   ]
  }
 ],
 "metadata": {
  "kernelspec": {
   "display_name": "mxfont",
   "language": "python",
   "name": "python3"
  },
  "language_info": {
   "codemirror_mode": {
    "name": "ipython",
    "version": 3
   },
   "file_extension": ".py",
   "mimetype": "text/x-python",
   "name": "python",
   "nbconvert_exporter": "python",
   "pygments_lexer": "ipython3",
   "version": "3.8.5"
  },
  "orig_nbformat": 4,
  "vscode": {
   "interpreter": {
    "hash": "753288dc2ee827038f50f223514d461f627f95eb9e9cb8557abeeaa000339686"
   }
  }
 },
 "nbformat": 4,
 "nbformat_minor": 2
}
